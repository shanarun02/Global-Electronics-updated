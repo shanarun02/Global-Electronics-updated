{
 "cells": [
  {
   "cell_type": "markdown",
   "id": "ee2c9593-c1e3-4185-9e98-88d13c300b11",
   "metadata": {},
   "source": [
    "### LOAD DATASET"
   ]
  },
  {
   "cell_type": "markdown",
   "id": "850a7784-33b7-44f5-a702-3c05d4b0a8de",
   "metadata": {},
   "source": [
    "### DATA SET - customers,data_dic,exchange_rates,products,sales,store"
   ]
  },
  {
   "cell_type": "code",
   "execution_count": 1,
   "id": "4d5170d1-ccf9-403f-8491-f1ccad2ed6eb",
   "metadata": {},
   "outputs": [],
   "source": [
    "import pandas as pd "
   ]
  },
  {
   "cell_type": "code",
   "execution_count": 45,
   "id": "32b05500-155f-4a30-a94f-699f205e6d5a",
   "metadata": {},
   "outputs": [
    {
     "data": {
      "text/html": [
       "<div>\n",
       "<style scoped>\n",
       "    .dataframe tbody tr th:only-of-type {\n",
       "        vertical-align: middle;\n",
       "    }\n",
       "\n",
       "    .dataframe tbody tr th {\n",
       "        vertical-align: top;\n",
       "    }\n",
       "\n",
       "    .dataframe thead th {\n",
       "        text-align: right;\n",
       "    }\n",
       "</style>\n",
       "<table border=\"1\" class=\"dataframe\">\n",
       "  <thead>\n",
       "    <tr style=\"text-align: right;\">\n",
       "      <th></th>\n",
       "      <th>CustomerKey</th>\n",
       "      <th>Gender</th>\n",
       "      <th>Name</th>\n",
       "      <th>City</th>\n",
       "      <th>State Code</th>\n",
       "      <th>State</th>\n",
       "      <th>Zip Code</th>\n",
       "      <th>Country</th>\n",
       "      <th>Continent</th>\n",
       "      <th>Birthday</th>\n",
       "    </tr>\n",
       "  </thead>\n",
       "  <tbody>\n",
       "    <tr>\n",
       "      <th>0</th>\n",
       "      <td>301</td>\n",
       "      <td>Female</td>\n",
       "      <td>Lilly Harding</td>\n",
       "      <td>WANDEARAH EAST</td>\n",
       "      <td>SA</td>\n",
       "      <td>South Australia</td>\n",
       "      <td>5523</td>\n",
       "      <td>Australia</td>\n",
       "      <td>Australia</td>\n",
       "      <td>7/3/1939</td>\n",
       "    </tr>\n",
       "    <tr>\n",
       "      <th>1</th>\n",
       "      <td>325</td>\n",
       "      <td>Female</td>\n",
       "      <td>Madison Hull</td>\n",
       "      <td>MOUNT BUDD</td>\n",
       "      <td>WA</td>\n",
       "      <td>Western Australia</td>\n",
       "      <td>6522</td>\n",
       "      <td>Australia</td>\n",
       "      <td>Australia</td>\n",
       "      <td>9/27/1979</td>\n",
       "    </tr>\n",
       "    <tr>\n",
       "      <th>2</th>\n",
       "      <td>554</td>\n",
       "      <td>Female</td>\n",
       "      <td>Claire Ferres</td>\n",
       "      <td>WINJALLOK</td>\n",
       "      <td>VIC</td>\n",
       "      <td>Victoria</td>\n",
       "      <td>3380</td>\n",
       "      <td>Australia</td>\n",
       "      <td>Australia</td>\n",
       "      <td>5/26/1947</td>\n",
       "    </tr>\n",
       "    <tr>\n",
       "      <th>3</th>\n",
       "      <td>786</td>\n",
       "      <td>Male</td>\n",
       "      <td>Jai Poltpalingada</td>\n",
       "      <td>MIDDLE RIVER</td>\n",
       "      <td>SA</td>\n",
       "      <td>South Australia</td>\n",
       "      <td>5223</td>\n",
       "      <td>Australia</td>\n",
       "      <td>Australia</td>\n",
       "      <td>9/17/1957</td>\n",
       "    </tr>\n",
       "  </tbody>\n",
       "</table>\n",
       "</div>"
      ],
      "text/plain": [
       "   CustomerKey  Gender               Name            City State Code  \\\n",
       "0          301  Female      Lilly Harding  WANDEARAH EAST         SA   \n",
       "1          325  Female       Madison Hull      MOUNT BUDD         WA   \n",
       "2          554  Female      Claire Ferres       WINJALLOK        VIC   \n",
       "3          786    Male  Jai Poltpalingada    MIDDLE RIVER         SA   \n",
       "\n",
       "               State Zip Code    Country  Continent   Birthday  \n",
       "0    South Australia     5523  Australia  Australia   7/3/1939  \n",
       "1  Western Australia     6522  Australia  Australia  9/27/1979  \n",
       "2           Victoria     3380  Australia  Australia  5/26/1947  \n",
       "3    South Australia     5223  Australia  Australia  9/17/1957  "
      ]
     },
     "execution_count": 45,
     "metadata": {},
     "output_type": "execute_result"
    }
   ],
   "source": [
    "customers = pd.read_csv(r\"D:\\GUVI_PROJECT\\Illuminating Insights for Global Electronics\\Customers.csv\", encoding='latin1')\n",
    "customers.head(4)"
   ]
  },
  {
   "cell_type": "code",
   "execution_count": 3,
   "id": "0f28688a-41ab-4836-b5ca-1536293f678a",
   "metadata": {},
   "outputs": [],
   "source": [
    "customers['Birthday'] = pd.to_datetime(customers['Birthday'], errors='coerce')"
   ]
  },
  {
   "cell_type": "code",
   "execution_count": 51,
   "id": "7c4997d0-3e5f-4c5b-b6cc-820ec6bfc98a",
   "metadata": {},
   "outputs": [],
   "source": [
    "### columns renaming\n",
    "customers.rename(columns={'State Code': 'State_Code'}, inplace=True)\n",
    "customers.rename(columns={'Zip Code': 'Zip_Code'}, inplace=True)\n"
   ]
  },
  {
   "cell_type": "code",
   "execution_count": 52,
   "id": "12d21824-ea8e-49e7-a2a5-b1f01d945528",
   "metadata": {},
   "outputs": [],
   "source": [
    "required_cols = ['CustomerKey', 'Gender', 'Name', 'City', 'State_Code', 'State', 'Zip_Code', 'Country', 'Continent', 'Birthday']\n",
    "customers = customers.dropna(subset=required_cols)\n"
   ]
  },
  {
   "cell_type": "code",
   "execution_count": 7,
   "id": "b1a0ce9d-94d5-4709-ad68-d9f126f00e95",
   "metadata": {},
   "outputs": [
    {
     "data": {
      "text/plain": [
       "(15256, 10)"
      ]
     },
     "execution_count": 7,
     "metadata": {},
     "output_type": "execute_result"
    }
   ],
   "source": [
    "customers.shape\n"
   ]
  },
  {
   "cell_type": "code",
   "execution_count": null,
   "id": "b805f1f2-1307-4d02-b72f-34d33368a738",
   "metadata": {},
   "outputs": [],
   "source": []
  },
  {
   "cell_type": "code",
   "execution_count": 13,
   "id": "42ce95d5-2faf-496f-b2a4-501d3695d0c0",
   "metadata": {},
   "outputs": [],
   "source": []
  },
  {
   "cell_type": "code",
   "execution_count": 49,
   "id": "f50b71d8-3238-40f6-8eaa-457daa6cc647",
   "metadata": {},
   "outputs": [],
   "source": [
    "customers['Birthday'] = pd.to_datetime(customers['Birthday'], errors='coerce', format='%m/%d/%Y').dt.date\n"
   ]
  },
  {
   "cell_type": "code",
   "execution_count": 18,
   "id": "1f8e816f-4849-4b5c-a96f-6862d353b64b",
   "metadata": {},
   "outputs": [
    {
     "name": "stdout",
     "output_type": "stream",
     "text": [
      "CustomerKey     0\n",
      "Gender          0\n",
      "Name            0\n",
      "City            0\n",
      "State Code     10\n",
      "State           0\n",
      "Zip Code        0\n",
      "Country         0\n",
      "Continent       0\n",
      "Birthday        0\n",
      "dtype: int64\n"
     ]
    }
   ],
   "source": [
    "## missing value check \n",
    "print(customers.isnull().sum())"
   ]
  },
  {
   "cell_type": "code",
   "execution_count": 38,
   "id": "1d391516-c3a9-443b-b02f-6a3d2a7da14f",
   "metadata": {},
   "outputs": [],
   "source": [
    "## fill 0 in missing value place\n",
    "customers.fillna(0,inplace=True)"
   ]
  },
  {
   "cell_type": "code",
   "execution_count": 39,
   "id": "e7960aa5-afba-4ff3-8a96-aaef7ab44063",
   "metadata": {},
   "outputs": [
    {
     "data": {
      "text/plain": [
       "np.int64(0)"
      ]
     },
     "execution_count": 39,
     "metadata": {},
     "output_type": "execute_result"
    }
   ],
   "source": [
    "##checking duplicated values\n",
    "customers.duplicated().sum()"
   ]
  },
  {
   "cell_type": "code",
   "execution_count": 40,
   "id": "710c645e-028a-4ba9-a300-e8a31d849533",
   "metadata": {},
   "outputs": [],
   "source": [
    "## handling duplicated value in such case use \n",
    "customers = customers.drop_duplicates()"
   ]
  },
  {
   "cell_type": "code",
   "execution_count": 48,
   "id": "0ab30232-4f53-4346-98b4-8b8d80303174",
   "metadata": {},
   "outputs": [
    {
     "data": {
      "text/plain": [
       "CustomerKey     int64\n",
       "Gender         object\n",
       "Name           object\n",
       "City           object\n",
       "State_Code     object\n",
       "State          object\n",
       "Zip Code       object\n",
       "Country        object\n",
       "Continent      object\n",
       "Birthday       object\n",
       "dtype: object"
      ]
     },
     "execution_count": 48,
     "metadata": {},
     "output_type": "execute_result"
    }
   ],
   "source": [
    "### data type checking \n",
    "\n",
    "customers.dtypes"
   ]
  },
  {
   "cell_type": "code",
   "execution_count": 14,
   "id": "6e3ad195-09da-4cfd-8833-5631df72ccd2",
   "metadata": {},
   "outputs": [],
   "source": [
    "### coverting str to datetime for birthday and filling with NaT Value\n",
    "customers['Birthday'] = pd.to_datetime(customers['Birthday'], errors='coerce')"
   ]
  },
  {
   "cell_type": "code",
   "execution_count": 42,
   "id": "b58f6fdd-6b17-41df-8756-aa3f1fa95b45",
   "metadata": {},
   "outputs": [],
   "source": [
    "### removing leading and trailing white spaces in the data\n",
    "\n",
    "columns = customers.columns\n",
    "for col in columns:\n",
    "    if customers[col].dtype == 'object': \n",
    "        customers[col] = customers[col].str.strip()\n"
   ]
  },
  {
   "cell_type": "code",
   "execution_count": 47,
   "id": "8ac626e1-5f5f-49a1-987e-d6478351a788",
   "metadata": {},
   "outputs": [],
   "source": [
    "customers.rename(columns={'State Code': 'State_Code'}, inplace=True)\n"
   ]
  },
  {
   "cell_type": "code",
   "execution_count": 54,
   "id": "c33fec22-b43c-4232-991d-51a4505740b4",
   "metadata": {},
   "outputs": [
    {
     "data": {
      "text/html": [
       "<div>\n",
       "<style scoped>\n",
       "    .dataframe tbody tr th:only-of-type {\n",
       "        vertical-align: middle;\n",
       "    }\n",
       "\n",
       "    .dataframe tbody tr th {\n",
       "        vertical-align: top;\n",
       "    }\n",
       "\n",
       "    .dataframe thead th {\n",
       "        text-align: right;\n",
       "    }\n",
       "</style>\n",
       "<table border=\"1\" class=\"dataframe\">\n",
       "  <thead>\n",
       "    <tr style=\"text-align: right;\">\n",
       "      <th></th>\n",
       "      <th>Table</th>\n",
       "      <th>Field</th>\n",
       "      <th>Description</th>\n",
       "    </tr>\n",
       "  </thead>\n",
       "  <tbody>\n",
       "    <tr>\n",
       "      <th>0</th>\n",
       "      <td>Sales</td>\n",
       "      <td>Order Number</td>\n",
       "      <td>Unique ID for each order</td>\n",
       "    </tr>\n",
       "    <tr>\n",
       "      <th>1</th>\n",
       "      <td>Sales</td>\n",
       "      <td>Line Item</td>\n",
       "      <td>Identifies individual products purchased as pa...</td>\n",
       "    </tr>\n",
       "    <tr>\n",
       "      <th>2</th>\n",
       "      <td>Sales</td>\n",
       "      <td>Order Date</td>\n",
       "      <td>Date the order was placed</td>\n",
       "    </tr>\n",
       "    <tr>\n",
       "      <th>3</th>\n",
       "      <td>Sales</td>\n",
       "      <td>Delivery Date</td>\n",
       "      <td>Date the order was delivered</td>\n",
       "    </tr>\n",
       "    <tr>\n",
       "      <th>4</th>\n",
       "      <td>Sales</td>\n",
       "      <td>CustomerKey</td>\n",
       "      <td>Unique key identifying which customer placed t...</td>\n",
       "    </tr>\n",
       "    <tr>\n",
       "      <th>5</th>\n",
       "      <td>Sales</td>\n",
       "      <td>StoreKey</td>\n",
       "      <td>Unique key identifying which store processed t...</td>\n",
       "    </tr>\n",
       "    <tr>\n",
       "      <th>6</th>\n",
       "      <td>Sales</td>\n",
       "      <td>ProductKey</td>\n",
       "      <td>Unique key identifying which product was purch...</td>\n",
       "    </tr>\n",
       "    <tr>\n",
       "      <th>7</th>\n",
       "      <td>Sales</td>\n",
       "      <td>Quantity</td>\n",
       "      <td>Number of items purchased</td>\n",
       "    </tr>\n",
       "    <tr>\n",
       "      <th>8</th>\n",
       "      <td>Sales</td>\n",
       "      <td>Currency Code</td>\n",
       "      <td>Currency used to process the order</td>\n",
       "    </tr>\n",
       "    <tr>\n",
       "      <th>9</th>\n",
       "      <td>Customers</td>\n",
       "      <td>CustomerKey</td>\n",
       "      <td>Primary key to identify customers</td>\n",
       "    </tr>\n",
       "    <tr>\n",
       "      <th>10</th>\n",
       "      <td>Customers</td>\n",
       "      <td>Gender</td>\n",
       "      <td>Customer gender</td>\n",
       "    </tr>\n",
       "    <tr>\n",
       "      <th>11</th>\n",
       "      <td>Customers</td>\n",
       "      <td>Name</td>\n",
       "      <td>Customer full name</td>\n",
       "    </tr>\n",
       "    <tr>\n",
       "      <th>12</th>\n",
       "      <td>Customers</td>\n",
       "      <td>City</td>\n",
       "      <td>Customer city</td>\n",
       "    </tr>\n",
       "    <tr>\n",
       "      <th>13</th>\n",
       "      <td>Customers</td>\n",
       "      <td>State Code</td>\n",
       "      <td>Customer state (abbreviated)</td>\n",
       "    </tr>\n",
       "    <tr>\n",
       "      <th>14</th>\n",
       "      <td>Customers</td>\n",
       "      <td>State</td>\n",
       "      <td>Customer state (full)</td>\n",
       "    </tr>\n",
       "  </tbody>\n",
       "</table>\n",
       "</div>"
      ],
      "text/plain": [
       "        Table          Field  \\\n",
       "0       Sales   Order Number   \n",
       "1       Sales      Line Item   \n",
       "2       Sales     Order Date   \n",
       "3       Sales  Delivery Date   \n",
       "4       Sales    CustomerKey   \n",
       "5       Sales       StoreKey   \n",
       "6       Sales     ProductKey   \n",
       "7       Sales       Quantity   \n",
       "8       Sales  Currency Code   \n",
       "9   Customers    CustomerKey   \n",
       "10  Customers         Gender   \n",
       "11  Customers           Name   \n",
       "12  Customers           City   \n",
       "13  Customers     State Code   \n",
       "14  Customers          State   \n",
       "\n",
       "                                          Description  \n",
       "0                            Unique ID for each order  \n",
       "1   Identifies individual products purchased as pa...  \n",
       "2                           Date the order was placed  \n",
       "3                        Date the order was delivered  \n",
       "4   Unique key identifying which customer placed t...  \n",
       "5   Unique key identifying which store processed t...  \n",
       "6   Unique key identifying which product was purch...  \n",
       "7                           Number of items purchased  \n",
       "8                  Currency used to process the order  \n",
       "9                   Primary key to identify customers  \n",
       "10                                    Customer gender  \n",
       "11                                 Customer full name  \n",
       "12                                      Customer city  \n",
       "13                       Customer state (abbreviated)  \n",
       "14                              Customer state (full)  "
      ]
     },
     "execution_count": 54,
     "metadata": {},
     "output_type": "execute_result"
    }
   ],
   "source": [
    "data_dic=pd.read_csv(r\"D:\\GUVI_PROJECT\\Illuminating Insights for Global Electronics\\Data_Dictionary.csv\")\n",
    "data_dic.head(15)"
   ]
  },
  {
   "cell_type": "code",
   "execution_count": 55,
   "id": "f87210da-781a-44a0-9319-93e5f2d571ba",
   "metadata": {},
   "outputs": [
    {
     "data": {
      "text/plain": [
       "Table          0\n",
       "Field          0\n",
       "Description    0\n",
       "dtype: int64"
      ]
     },
     "execution_count": 55,
     "metadata": {},
     "output_type": "execute_result"
    }
   ],
   "source": [
    "#null value check \n",
    "data_dic.isnull().sum()"
   ]
  },
  {
   "cell_type": "code",
   "execution_count": 56,
   "id": "a86716d3-0eac-4b33-9236-d0ed88e6323f",
   "metadata": {},
   "outputs": [
    {
     "data": {
      "text/plain": [
       "(37, 3)"
      ]
     },
     "execution_count": 56,
     "metadata": {},
     "output_type": "execute_result"
    }
   ],
   "source": [
    "# data shape\n",
    "data_dic.shape"
   ]
  },
  {
   "cell_type": "code",
   "execution_count": 57,
   "id": "665c5821-55bb-4e2f-8ed7-86c3b7088ef2",
   "metadata": {},
   "outputs": [
    {
     "data": {
      "text/plain": [
       "np.int64(0)"
      ]
     },
     "execution_count": 57,
     "metadata": {},
     "output_type": "execute_result"
    }
   ],
   "source": [
    "### duplicated checking \n",
    "data_dic.duplicated().sum()"
   ]
  },
  {
   "cell_type": "code",
   "execution_count": 58,
   "id": "250bfd9b-39dc-4c35-b9c4-6c6e80e4e61e",
   "metadata": {},
   "outputs": [],
   "source": [
    "## removing leading and trailing spaces\n",
    "columns_data_dic=data_dic.columns\n",
    "for dic in columns_data_dic:\n",
    "    data_dic[dic]=data_dic[dic].str.strip()"
   ]
  },
  {
   "cell_type": "code",
   "execution_count": null,
   "id": "ac71bb47-e039-4d6a-bbe0-7d34a54bc3d6",
   "metadata": {},
   "outputs": [],
   "source": []
  },
  {
   "cell_type": "code",
   "execution_count": null,
   "id": "2545f8f7-07b2-4fa7-9860-4fe0c64bc06b",
   "metadata": {},
   "outputs": [],
   "source": []
  },
  {
   "cell_type": "code",
   "execution_count": null,
   "id": "34712a25-75f8-4374-bf79-1fa7dd0b495e",
   "metadata": {},
   "outputs": [],
   "source": []
  },
  {
   "cell_type": "code",
   "execution_count": 63,
   "id": "51bc249f-243b-4cd1-a6c6-bd34de5c79f1",
   "metadata": {},
   "outputs": [
    {
     "data": {
      "text/html": [
       "<div>\n",
       "<style scoped>\n",
       "    .dataframe tbody tr th:only-of-type {\n",
       "        vertical-align: middle;\n",
       "    }\n",
       "\n",
       "    .dataframe tbody tr th {\n",
       "        vertical-align: top;\n",
       "    }\n",
       "\n",
       "    .dataframe thead th {\n",
       "        text-align: right;\n",
       "    }\n",
       "</style>\n",
       "<table border=\"1\" class=\"dataframe\">\n",
       "  <thead>\n",
       "    <tr style=\"text-align: right;\">\n",
       "      <th></th>\n",
       "      <th>Date</th>\n",
       "      <th>Currency</th>\n",
       "      <th>Exchange</th>\n",
       "    </tr>\n",
       "  </thead>\n",
       "  <tbody>\n",
       "    <tr>\n",
       "      <th>0</th>\n",
       "      <td>1/1/2015</td>\n",
       "      <td>USD</td>\n",
       "      <td>1.0000</td>\n",
       "    </tr>\n",
       "    <tr>\n",
       "      <th>1</th>\n",
       "      <td>1/1/2015</td>\n",
       "      <td>CAD</td>\n",
       "      <td>1.1583</td>\n",
       "    </tr>\n",
       "    <tr>\n",
       "      <th>2</th>\n",
       "      <td>1/1/2015</td>\n",
       "      <td>AUD</td>\n",
       "      <td>1.2214</td>\n",
       "    </tr>\n",
       "    <tr>\n",
       "      <th>3</th>\n",
       "      <td>1/1/2015</td>\n",
       "      <td>EUR</td>\n",
       "      <td>0.8237</td>\n",
       "    </tr>\n",
       "  </tbody>\n",
       "</table>\n",
       "</div>"
      ],
      "text/plain": [
       "       Date Currency  Exchange\n",
       "0  1/1/2015      USD    1.0000\n",
       "1  1/1/2015      CAD    1.1583\n",
       "2  1/1/2015      AUD    1.2214\n",
       "3  1/1/2015      EUR    0.8237"
      ]
     },
     "execution_count": 63,
     "metadata": {},
     "output_type": "execute_result"
    }
   ],
   "source": [
    "exchange_rates=pd.read_csv(r\"D:\\GUVI_PROJECT\\Illuminating Insights for Global Electronics\\Exchange_Rates.csv\")\n",
    "exchange_rates.head(4)"
   ]
  },
  {
   "cell_type": "code",
   "execution_count": 64,
   "id": "0a57a159-398c-4dbf-862f-7bee831c4102",
   "metadata": {},
   "outputs": [
    {
     "data": {
      "text/plain": [
       "Date        0\n",
       "Currency    0\n",
       "Exchange    0\n",
       "dtype: int64"
      ]
     },
     "execution_count": 64,
     "metadata": {},
     "output_type": "execute_result"
    }
   ],
   "source": [
    "### null value check \n",
    "exchange_rates.isnull().sum()"
   ]
  },
  {
   "cell_type": "code",
   "execution_count": 65,
   "id": "9f3008cf-0626-4738-8ab0-59ccc354acde",
   "metadata": {},
   "outputs": [
    {
     "data": {
      "text/plain": [
       "np.int64(0)"
      ]
     },
     "execution_count": 65,
     "metadata": {},
     "output_type": "execute_result"
    }
   ],
   "source": [
    "### duplicated value check\n",
    "exchange_rates.duplicated().sum()"
   ]
  },
  {
   "cell_type": "code",
   "execution_count": 66,
   "id": "c1fb96ef-2e48-4dfb-8c18-5bac4cd393b3",
   "metadata": {},
   "outputs": [
    {
     "data": {
      "text/plain": [
       "Date         object\n",
       "Currency     object\n",
       "Exchange    float64\n",
       "dtype: object"
      ]
     },
     "execution_count": 66,
     "metadata": {},
     "output_type": "execute_result"
    }
   ],
   "source": [
    "exchange_rates.dtypes"
   ]
  },
  {
   "cell_type": "code",
   "execution_count": 67,
   "id": "6a609240-fee9-40ba-88c1-519535ea40a9",
   "metadata": {},
   "outputs": [],
   "source": [
    "### data type conversion\n",
    "exchange_rates['Date'] = pd.to_datetime(exchange_rates['Date'], errors='coerce')"
   ]
  },
  {
   "cell_type": "code",
   "execution_count": null,
   "id": "697977b3-64b3-44cb-8c47-91d88693867b",
   "metadata": {},
   "outputs": [],
   "source": []
  },
  {
   "cell_type": "code",
   "execution_count": null,
   "id": "d020bebb-99b0-432f-842e-0c437984fd5a",
   "metadata": {},
   "outputs": [],
   "source": []
  },
  {
   "cell_type": "code",
   "execution_count": null,
   "id": "48034adc-bd86-4f16-9bed-e2b53f1a87f2",
   "metadata": {},
   "outputs": [],
   "source": []
  },
  {
   "cell_type": "code",
   "execution_count": 70,
   "id": "e946e186-39a2-43d7-bc62-959805e26efd",
   "metadata": {},
   "outputs": [
    {
     "data": {
      "text/html": [
       "<div>\n",
       "<style scoped>\n",
       "    .dataframe tbody tr th:only-of-type {\n",
       "        vertical-align: middle;\n",
       "    }\n",
       "\n",
       "    .dataframe tbody tr th {\n",
       "        vertical-align: top;\n",
       "    }\n",
       "\n",
       "    .dataframe thead th {\n",
       "        text-align: right;\n",
       "    }\n",
       "</style>\n",
       "<table border=\"1\" class=\"dataframe\">\n",
       "  <thead>\n",
       "    <tr style=\"text-align: right;\">\n",
       "      <th></th>\n",
       "      <th>ProductKey</th>\n",
       "      <th>Product Name</th>\n",
       "      <th>Brand</th>\n",
       "      <th>Color</th>\n",
       "      <th>Unit Cost USD</th>\n",
       "      <th>Unit Price USD</th>\n",
       "      <th>SubcategoryKey</th>\n",
       "      <th>Subcategory</th>\n",
       "      <th>CategoryKey</th>\n",
       "      <th>Category</th>\n",
       "    </tr>\n",
       "  </thead>\n",
       "  <tbody>\n",
       "    <tr>\n",
       "      <th>0</th>\n",
       "      <td>1</td>\n",
       "      <td>Contoso 512MB MP3 Player E51 Silver</td>\n",
       "      <td>Contoso</td>\n",
       "      <td>Silver</td>\n",
       "      <td>$6.62</td>\n",
       "      <td>$12.99</td>\n",
       "      <td>101</td>\n",
       "      <td>MP4&amp;MP3</td>\n",
       "      <td>1</td>\n",
       "      <td>Audio</td>\n",
       "    </tr>\n",
       "    <tr>\n",
       "      <th>1</th>\n",
       "      <td>2</td>\n",
       "      <td>Contoso 512MB MP3 Player E51 Blue</td>\n",
       "      <td>Contoso</td>\n",
       "      <td>Blue</td>\n",
       "      <td>$6.62</td>\n",
       "      <td>$12.99</td>\n",
       "      <td>101</td>\n",
       "      <td>MP4&amp;MP3</td>\n",
       "      <td>1</td>\n",
       "      <td>Audio</td>\n",
       "    </tr>\n",
       "  </tbody>\n",
       "</table>\n",
       "</div>"
      ],
      "text/plain": [
       "   ProductKey                         Product Name    Brand   Color  \\\n",
       "0           1  Contoso 512MB MP3 Player E51 Silver  Contoso  Silver   \n",
       "1           2    Contoso 512MB MP3 Player E51 Blue  Contoso    Blue   \n",
       "\n",
       "  Unit Cost USD Unit Price USD  SubcategoryKey Subcategory  CategoryKey  \\\n",
       "0        $6.62         $12.99              101     MP4&MP3            1   \n",
       "1        $6.62         $12.99              101     MP4&MP3            1   \n",
       "\n",
       "  Category  \n",
       "0    Audio  \n",
       "1    Audio  "
      ]
     },
     "execution_count": 70,
     "metadata": {},
     "output_type": "execute_result"
    }
   ],
   "source": [
    "products=pd.read_csv(r\"D:\\GUVI_PROJECT\\Illuminating Insights for Global Electronics\\Products.csv\")\n",
    "products.head(2)"
   ]
  },
  {
   "cell_type": "code",
   "execution_count": 71,
   "id": "71857b66-5434-4583-ae86-c17e0bc8e62a",
   "metadata": {},
   "outputs": [
    {
     "data": {
      "text/plain": [
       "ProductKey        0\n",
       "Product Name      0\n",
       "Brand             0\n",
       "Color             0\n",
       "Unit Cost USD     0\n",
       "Unit Price USD    0\n",
       "SubcategoryKey    0\n",
       "Subcategory       0\n",
       "CategoryKey       0\n",
       "Category          0\n",
       "dtype: int64"
      ]
     },
     "execution_count": 71,
     "metadata": {},
     "output_type": "execute_result"
    }
   ],
   "source": [
    "### null value check\n",
    "products.isnull().sum()"
   ]
  },
  {
   "cell_type": "code",
   "execution_count": 72,
   "id": "6d847084-d2e0-4ed4-a852-a330a9f3ad38",
   "metadata": {},
   "outputs": [
    {
     "data": {
      "text/plain": [
       "np.int64(0)"
      ]
     },
     "execution_count": 72,
     "metadata": {},
     "output_type": "execute_result"
    }
   ],
   "source": [
    "products.duplicated().sum()\n"
   ]
  },
  {
   "cell_type": "code",
   "execution_count": 73,
   "id": "7e28ca34-6492-4e1b-b4f1-84d2103b187c",
   "metadata": {},
   "outputs": [],
   "source": [
    "### removig white spcaes in the datas\n",
    "products_columns=products.columns\n",
    "for pro in products_columns:\n",
    "    if products[pro].dtype == 'object':\n",
    "        products[pro]=products[pro].str.strip()"
   ]
  },
  {
   "cell_type": "code",
   "execution_count": 74,
   "id": "cb5c417d-c46c-4df6-90bf-bb723c047404",
   "metadata": {},
   "outputs": [
    {
     "data": {
      "text/plain": [
       "ProductKey         int64\n",
       "Product Name      object\n",
       "Brand             object\n",
       "Color             object\n",
       "Unit Cost USD     object\n",
       "Unit Price USD    object\n",
       "SubcategoryKey     int64\n",
       "Subcategory       object\n",
       "CategoryKey        int64\n",
       "Category          object\n",
       "dtype: object"
      ]
     },
     "execution_count": 74,
     "metadata": {},
     "output_type": "execute_result"
    }
   ],
   "source": [
    "products.dtypes"
   ]
  },
  {
   "cell_type": "code",
   "execution_count": 75,
   "id": "16dc1d03-2042-424d-96b6-9154789ccdb2",
   "metadata": {},
   "outputs": [],
   "source": [
    "# Remove $ symbol in the data\n",
    "products['Unit Price USD'] = products['Unit Price USD'].str.replace('$', '', regex=False)\n",
    "# Remove commas and convert to float\n",
    "products['Unit Price USD'] = products['Unit Price USD'].str.replace(',', '').astype(float)"
   ]
  },
  {
   "cell_type": "code",
   "execution_count": 76,
   "id": "b3318f03-d2be-4d72-b15d-2299b327883a",
   "metadata": {},
   "outputs": [],
   "source": [
    "# Remove $ symbol in the data\n",
    "products['Unit Cost USD'] = products['Unit Cost USD'].str.replace('$', '', regex=False)\n",
    "# Remove commas and convert to float\n",
    "products['Unit Cost USD'] = products['Unit Cost USD'].str.replace(',', '').astype(float)"
   ]
  },
  {
   "cell_type": "code",
   "execution_count": 77,
   "id": "a4526184-9d51-415b-9277-d1f657fa5f2c",
   "metadata": {},
   "outputs": [],
   "source": [
    "## data type changing \n",
    "products['Unit Cost USD'] =products['Unit Cost USD'].astype(float)\n",
    "products['Unit Price USD'] =products['Unit Price USD'].astype(float)"
   ]
  },
  {
   "cell_type": "code",
   "execution_count": 78,
   "id": "81b9953a-1e38-4a4c-9a87-90929bd2129c",
   "metadata": {},
   "outputs": [],
   "source": [
    "## column name change\n",
    "products = products.rename(columns={\n",
    "    'Product Key': 'ProductKey',\n",
    "    'Product Name': 'ProductName',\n",
    "    'Unit Cost USD': 'UnitCostUSD',\n",
    "    'Unit Price USD': 'UnitPriceUSD'\n",
    "})\n"
   ]
  },
  {
   "cell_type": "code",
   "execution_count": null,
   "id": "147b2205-5449-496e-a560-1ae2e7207fd1",
   "metadata": {},
   "outputs": [],
   "source": []
  },
  {
   "cell_type": "code",
   "execution_count": 87,
   "id": "bb3d3539-f153-472e-b6ac-663c8097c09b",
   "metadata": {},
   "outputs": [
    {
     "data": {
      "text/html": [
       "<div>\n",
       "<style scoped>\n",
       "    .dataframe tbody tr th:only-of-type {\n",
       "        vertical-align: middle;\n",
       "    }\n",
       "\n",
       "    .dataframe tbody tr th {\n",
       "        vertical-align: top;\n",
       "    }\n",
       "\n",
       "    .dataframe thead th {\n",
       "        text-align: right;\n",
       "    }\n",
       "</style>\n",
       "<table border=\"1\" class=\"dataframe\">\n",
       "  <thead>\n",
       "    <tr style=\"text-align: right;\">\n",
       "      <th></th>\n",
       "      <th>Order Number</th>\n",
       "      <th>Line Item</th>\n",
       "      <th>Order Date</th>\n",
       "      <th>Delivery Date</th>\n",
       "      <th>CustomerKey</th>\n",
       "      <th>StoreKey</th>\n",
       "      <th>ProductKey</th>\n",
       "      <th>Quantity</th>\n",
       "      <th>Currency Code</th>\n",
       "    </tr>\n",
       "  </thead>\n",
       "  <tbody>\n",
       "    <tr>\n",
       "      <th>0</th>\n",
       "      <td>366000</td>\n",
       "      <td>1</td>\n",
       "      <td>1/1/2016</td>\n",
       "      <td>NaN</td>\n",
       "      <td>265598</td>\n",
       "      <td>10</td>\n",
       "      <td>1304</td>\n",
       "      <td>1</td>\n",
       "      <td>CAD</td>\n",
       "    </tr>\n",
       "    <tr>\n",
       "      <th>1</th>\n",
       "      <td>366001</td>\n",
       "      <td>1</td>\n",
       "      <td>1/1/2016</td>\n",
       "      <td>1/13/2016</td>\n",
       "      <td>1269051</td>\n",
       "      <td>0</td>\n",
       "      <td>1048</td>\n",
       "      <td>2</td>\n",
       "      <td>USD</td>\n",
       "    </tr>\n",
       "  </tbody>\n",
       "</table>\n",
       "</div>"
      ],
      "text/plain": [
       "   Order Number  Line Item Order Date Delivery Date  CustomerKey  StoreKey  \\\n",
       "0        366000          1   1/1/2016           NaN       265598        10   \n",
       "1        366001          1   1/1/2016     1/13/2016      1269051         0   \n",
       "\n",
       "   ProductKey  Quantity Currency Code  \n",
       "0        1304         1           CAD  \n",
       "1        1048         2           USD  "
      ]
     },
     "execution_count": 87,
     "metadata": {},
     "output_type": "execute_result"
    }
   ],
   "source": [
    "sales=pd.read_csv(r\"D:\\GUVI_PROJECT\\Illuminating Insights for Global Electronics\\Sales.csv\")\n",
    "sales.head(2)"
   ]
  },
  {
   "cell_type": "code",
   "execution_count": 88,
   "id": "119646ac-8d0f-4e63-8dab-14d8e47c71d5",
   "metadata": {},
   "outputs": [
    {
     "data": {
      "text/plain": [
       "Order Number         0\n",
       "Line Item            0\n",
       "Order Date           0\n",
       "Delivery Date    49719\n",
       "CustomerKey          0\n",
       "StoreKey             0\n",
       "ProductKey           0\n",
       "Quantity             0\n",
       "Currency Code        0\n",
       "dtype: int64"
      ]
     },
     "execution_count": 88,
     "metadata": {},
     "output_type": "execute_result"
    }
   ],
   "source": [
    "sales.isnull().sum()"
   ]
  },
  {
   "cell_type": "code",
   "execution_count": 96,
   "id": "4d1ca13e-f3ee-433d-b65a-c24424980509",
   "metadata": {},
   "outputs": [],
   "source": [
    "# Remove any leading or trailing spaces in the column names\n",
    "sales.columns = sales.columns.str.strip()\n",
    "\n",
    "# Drop rows with NaN values across the specified columns\n",
    "sales = sales.dropna(subset=['OrderNumber', 'LineItem', 'OrderDate', 'DeliveryDate', 'CustomerKey', 'StoreKey', 'ProductKey', 'Quantity', 'CurrencyCode'])\n"
   ]
  },
  {
   "cell_type": "code",
   "execution_count": 89,
   "id": "5b291671-023a-4e9c-b725-97d5cad55057",
   "metadata": {},
   "outputs": [],
   "source": [
    "sales['Delivery Date'] = pd.to_datetime(sales['Delivery Date'], errors='coerce')\n"
   ]
  },
  {
   "cell_type": "code",
   "execution_count": 90,
   "id": "6edd2463-872c-4dcf-8549-02da6dd2777c",
   "metadata": {},
   "outputs": [],
   "source": [
    "## data interpolation for the column bcz there are 49719 missing values\n",
    "sales['Delivery Date'] = sales['Delivery Date'].interpolate()\n",
    "## interpolate create the approximate range values by using its surroundedd values"
   ]
  },
  {
   "cell_type": "code",
   "execution_count": 91,
   "id": "9a292e46-73de-4e15-8a39-b6a285a740b8",
   "metadata": {},
   "outputs": [],
   "source": [
    "### data type changing\n",
    "sales['Delivery Date'] = pd.to_datetime(sales['Delivery Date'].dt.date)\n"
   ]
  },
  {
   "cell_type": "code",
   "execution_count": 95,
   "id": "334f46d8-5603-4811-b722-d1cf8e2c3a44",
   "metadata": {},
   "outputs": [],
   "source": [
    "customers['DeliveryDate'] = pd.to_datetime(sales['DeliveryDate'], errors='coerce', format='%m/%d/%Y')\n",
    "customers['OrderDate'] = pd.to_datetime(sales['OrderDate'], errors='coerce', format='%m/%d/%Y')\n"
   ]
  },
  {
   "cell_type": "code",
   "execution_count": 94,
   "id": "fca4ff8a-55f0-4e65-96f4-ffa533ef8098",
   "metadata": {},
   "outputs": [
    {
     "data": {
      "text/plain": [
       "np.int64(0)"
      ]
     },
     "execution_count": 94,
     "metadata": {},
     "output_type": "execute_result"
    }
   ],
   "source": [
    "### duplicated value check\n",
    "sales.duplicated().sum()"
   ]
  },
  {
   "cell_type": "code",
   "execution_count": 113,
   "id": "b37dd5a3-9a00-4008-bf26-2510f015e866",
   "metadata": {},
   "outputs": [],
   "source": [
    "sales.dropna(inplace=True)"
   ]
  },
  {
   "cell_type": "code",
   "execution_count": 93,
   "id": "cbf8674b-178b-4b59-9631-b5efe8d067a1",
   "metadata": {},
   "outputs": [],
   "source": [
    "# Rename columns to match SQL column names\n",
    "sales = sales.rename(columns={\n",
    "    'Order Number': 'OrderNumber',\n",
    "    'Line Item': 'LineItem',\n",
    "    'Order Date': 'OrderDate',\n",
    "    'Delivery Date': 'DeliveryDate',\n",
    "    'CustomerKey': 'CustomerKey',\n",
    "    'StoreKey': 'StoreKey',\n",
    "    'ProductKey': 'ProductKey',\n",
    "    'Quantity': 'Quantity',\n",
    "    'Currency Code': 'CurrencyCode'\n",
    "})\n"
   ]
  },
  {
   "cell_type": "code",
   "execution_count": 100,
   "id": "1c7fefad-95e4-4ecc-84bb-67148f00f03e",
   "metadata": {},
   "outputs": [
    {
     "data": {
      "text/html": [
       "<div>\n",
       "<style scoped>\n",
       "    .dataframe tbody tr th:only-of-type {\n",
       "        vertical-align: middle;\n",
       "    }\n",
       "\n",
       "    .dataframe tbody tr th {\n",
       "        vertical-align: top;\n",
       "    }\n",
       "\n",
       "    .dataframe thead th {\n",
       "        text-align: right;\n",
       "    }\n",
       "</style>\n",
       "<table border=\"1\" class=\"dataframe\">\n",
       "  <thead>\n",
       "    <tr style=\"text-align: right;\">\n",
       "      <th></th>\n",
       "      <th>StoreKey</th>\n",
       "      <th>Country</th>\n",
       "      <th>State</th>\n",
       "      <th>Square Meters</th>\n",
       "      <th>Open Date</th>\n",
       "    </tr>\n",
       "  </thead>\n",
       "  <tbody>\n",
       "    <tr>\n",
       "      <th>0</th>\n",
       "      <td>1</td>\n",
       "      <td>Australia</td>\n",
       "      <td>Australian Capital Territory</td>\n",
       "      <td>595.0</td>\n",
       "      <td>1/1/2008</td>\n",
       "    </tr>\n",
       "    <tr>\n",
       "      <th>1</th>\n",
       "      <td>2</td>\n",
       "      <td>Australia</td>\n",
       "      <td>Northern Territory</td>\n",
       "      <td>665.0</td>\n",
       "      <td>1/12/2008</td>\n",
       "    </tr>\n",
       "    <tr>\n",
       "      <th>2</th>\n",
       "      <td>3</td>\n",
       "      <td>Australia</td>\n",
       "      <td>South Australia</td>\n",
       "      <td>2000.0</td>\n",
       "      <td>1/7/2012</td>\n",
       "    </tr>\n",
       "    <tr>\n",
       "      <th>3</th>\n",
       "      <td>4</td>\n",
       "      <td>Australia</td>\n",
       "      <td>Tasmania</td>\n",
       "      <td>2000.0</td>\n",
       "      <td>1/1/2010</td>\n",
       "    </tr>\n",
       "    <tr>\n",
       "      <th>4</th>\n",
       "      <td>5</td>\n",
       "      <td>Australia</td>\n",
       "      <td>Victoria</td>\n",
       "      <td>2000.0</td>\n",
       "      <td>12/9/2015</td>\n",
       "    </tr>\n",
       "    <tr>\n",
       "      <th>5</th>\n",
       "      <td>6</td>\n",
       "      <td>Australia</td>\n",
       "      <td>Western Australia</td>\n",
       "      <td>2000.0</td>\n",
       "      <td>1/1/2010</td>\n",
       "    </tr>\n",
       "    <tr>\n",
       "      <th>6</th>\n",
       "      <td>7</td>\n",
       "      <td>Canada</td>\n",
       "      <td>New Brunswick</td>\n",
       "      <td>1105.0</td>\n",
       "      <td>5/7/2007</td>\n",
       "    </tr>\n",
       "    <tr>\n",
       "      <th>7</th>\n",
       "      <td>8</td>\n",
       "      <td>Canada</td>\n",
       "      <td>Newfoundland and Labrador</td>\n",
       "      <td>2105.0</td>\n",
       "      <td>7/2/2014</td>\n",
       "    </tr>\n",
       "    <tr>\n",
       "      <th>8</th>\n",
       "      <td>9</td>\n",
       "      <td>Canada</td>\n",
       "      <td>Northwest Territories</td>\n",
       "      <td>1500.0</td>\n",
       "      <td>3/4/2005</td>\n",
       "    </tr>\n",
       "    <tr>\n",
       "      <th>9</th>\n",
       "      <td>10</td>\n",
       "      <td>Canada</td>\n",
       "      <td>Nunavut</td>\n",
       "      <td>1210.0</td>\n",
       "      <td>4/4/2015</td>\n",
       "    </tr>\n",
       "    <tr>\n",
       "      <th>10</th>\n",
       "      <td>11</td>\n",
       "      <td>Canada</td>\n",
       "      <td>Yukon</td>\n",
       "      <td>1210.0</td>\n",
       "      <td>6/3/2009</td>\n",
       "    </tr>\n",
       "    <tr>\n",
       "      <th>11</th>\n",
       "      <td>12</td>\n",
       "      <td>France</td>\n",
       "      <td>Basse-Normandie</td>\n",
       "      <td>350.0</td>\n",
       "      <td>6/6/2012</td>\n",
       "    </tr>\n",
       "    <tr>\n",
       "      <th>12</th>\n",
       "      <td>13</td>\n",
       "      <td>France</td>\n",
       "      <td>Corse</td>\n",
       "      <td>245.0</td>\n",
       "      <td>6/7/2013</td>\n",
       "    </tr>\n",
       "    <tr>\n",
       "      <th>13</th>\n",
       "      <td>14</td>\n",
       "      <td>France</td>\n",
       "      <td>Franche-Comté</td>\n",
       "      <td>350.0</td>\n",
       "      <td>12/15/2009</td>\n",
       "    </tr>\n",
       "    <tr>\n",
       "      <th>14</th>\n",
       "      <td>15</td>\n",
       "      <td>France</td>\n",
       "      <td>La Réunion</td>\n",
       "      <td>400.0</td>\n",
       "      <td>1/1/2015</td>\n",
       "    </tr>\n",
       "    <tr>\n",
       "      <th>15</th>\n",
       "      <td>16</td>\n",
       "      <td>France</td>\n",
       "      <td>Limousin</td>\n",
       "      <td>385.0</td>\n",
       "      <td>6/3/2010</td>\n",
       "    </tr>\n",
       "    <tr>\n",
       "      <th>16</th>\n",
       "      <td>17</td>\n",
       "      <td>France</td>\n",
       "      <td>Martinique</td>\n",
       "      <td>350.0</td>\n",
       "      <td>7/8/2007</td>\n",
       "    </tr>\n",
       "    <tr>\n",
       "      <th>17</th>\n",
       "      <td>18</td>\n",
       "      <td>France</td>\n",
       "      <td>Mayotte</td>\n",
       "      <td>310.0</td>\n",
       "      <td>8/8/2012</td>\n",
       "    </tr>\n",
       "    <tr>\n",
       "      <th>18</th>\n",
       "      <td>19</td>\n",
       "      <td>Germany</td>\n",
       "      <td>Berlin</td>\n",
       "      <td>1295.0</td>\n",
       "      <td>4/4/2015</td>\n",
       "    </tr>\n",
       "    <tr>\n",
       "      <th>19</th>\n",
       "      <td>20</td>\n",
       "      <td>Germany</td>\n",
       "      <td>Brandenburg</td>\n",
       "      <td>1715.0</td>\n",
       "      <td>12/15/2012</td>\n",
       "    </tr>\n",
       "    <tr>\n",
       "      <th>20</th>\n",
       "      <td>21</td>\n",
       "      <td>Germany</td>\n",
       "      <td>Freie Hansestadt Bremen</td>\n",
       "      <td>560.0</td>\n",
       "      <td>6/3/2018</td>\n",
       "    </tr>\n",
       "    <tr>\n",
       "      <th>21</th>\n",
       "      <td>22</td>\n",
       "      <td>Germany</td>\n",
       "      <td>Freistaat Thüringen</td>\n",
       "      <td>2000.0</td>\n",
       "      <td>3/6/2008</td>\n",
       "    </tr>\n",
       "    <tr>\n",
       "      <th>22</th>\n",
       "      <td>23</td>\n",
       "      <td>Germany</td>\n",
       "      <td>Hamburg</td>\n",
       "      <td>1365.0</td>\n",
       "      <td>1/1/2010</td>\n",
       "    </tr>\n",
       "    <tr>\n",
       "      <th>23</th>\n",
       "      <td>24</td>\n",
       "      <td>Germany</td>\n",
       "      <td>Hessen</td>\n",
       "      <td>1855.0</td>\n",
       "      <td>12/15/2012</td>\n",
       "    </tr>\n",
       "    <tr>\n",
       "      <th>24</th>\n",
       "      <td>25</td>\n",
       "      <td>Germany</td>\n",
       "      <td>Mecklenburg-Vorpommern</td>\n",
       "      <td>1610.0</td>\n",
       "      <td>1/1/2010</td>\n",
       "    </tr>\n",
       "    <tr>\n",
       "      <th>25</th>\n",
       "      <td>26</td>\n",
       "      <td>Germany</td>\n",
       "      <td>Saarland</td>\n",
       "      <td>350.0</td>\n",
       "      <td>3/5/2019</td>\n",
       "    </tr>\n",
       "    <tr>\n",
       "      <th>26</th>\n",
       "      <td>27</td>\n",
       "      <td>Germany</td>\n",
       "      <td>Sachsen-Anhalt</td>\n",
       "      <td>2000.0</td>\n",
       "      <td>8/8/2008</td>\n",
       "    </tr>\n",
       "    <tr>\n",
       "      <th>27</th>\n",
       "      <td>28</td>\n",
       "      <td>Italy</td>\n",
       "      <td>Caltanissetta</td>\n",
       "      <td>1200.0</td>\n",
       "      <td>12/15/2012</td>\n",
       "    </tr>\n",
       "    <tr>\n",
       "      <th>28</th>\n",
       "      <td>29</td>\n",
       "      <td>Italy</td>\n",
       "      <td>Enna</td>\n",
       "      <td>1000.0</td>\n",
       "      <td>1/1/2008</td>\n",
       "    </tr>\n",
       "    <tr>\n",
       "      <th>29</th>\n",
       "      <td>30</td>\n",
       "      <td>Italy</td>\n",
       "      <td>Pesaro</td>\n",
       "      <td>2100.0</td>\n",
       "      <td>1/12/2008</td>\n",
       "    </tr>\n",
       "  </tbody>\n",
       "</table>\n",
       "</div>"
      ],
      "text/plain": [
       "    StoreKey    Country                         State  Square Meters  \\\n",
       "0          1  Australia  Australian Capital Territory          595.0   \n",
       "1          2  Australia            Northern Territory          665.0   \n",
       "2          3  Australia               South Australia         2000.0   \n",
       "3          4  Australia                      Tasmania         2000.0   \n",
       "4          5  Australia                      Victoria         2000.0   \n",
       "5          6  Australia             Western Australia         2000.0   \n",
       "6          7     Canada                 New Brunswick         1105.0   \n",
       "7          8     Canada     Newfoundland and Labrador         2105.0   \n",
       "8          9     Canada         Northwest Territories         1500.0   \n",
       "9         10     Canada                       Nunavut         1210.0   \n",
       "10        11     Canada                         Yukon         1210.0   \n",
       "11        12     France               Basse-Normandie          350.0   \n",
       "12        13     France                         Corse          245.0   \n",
       "13        14     France                 Franche-Comté          350.0   \n",
       "14        15     France                    La Réunion          400.0   \n",
       "15        16     France                      Limousin          385.0   \n",
       "16        17     France                    Martinique          350.0   \n",
       "17        18     France                       Mayotte          310.0   \n",
       "18        19    Germany                        Berlin         1295.0   \n",
       "19        20    Germany                   Brandenburg         1715.0   \n",
       "20        21    Germany       Freie Hansestadt Bremen          560.0   \n",
       "21        22    Germany           Freistaat Thüringen         2000.0   \n",
       "22        23    Germany                       Hamburg         1365.0   \n",
       "23        24    Germany                        Hessen         1855.0   \n",
       "24        25    Germany        Mecklenburg-Vorpommern         1610.0   \n",
       "25        26    Germany                      Saarland          350.0   \n",
       "26        27    Germany                Sachsen-Anhalt         2000.0   \n",
       "27        28      Italy                 Caltanissetta         1200.0   \n",
       "28        29      Italy                          Enna         1000.0   \n",
       "29        30      Italy                        Pesaro         2100.0   \n",
       "\n",
       "     Open Date  \n",
       "0     1/1/2008  \n",
       "1    1/12/2008  \n",
       "2     1/7/2012  \n",
       "3     1/1/2010  \n",
       "4    12/9/2015  \n",
       "5     1/1/2010  \n",
       "6     5/7/2007  \n",
       "7     7/2/2014  \n",
       "8     3/4/2005  \n",
       "9     4/4/2015  \n",
       "10    6/3/2009  \n",
       "11    6/6/2012  \n",
       "12    6/7/2013  \n",
       "13  12/15/2009  \n",
       "14    1/1/2015  \n",
       "15    6/3/2010  \n",
       "16    7/8/2007  \n",
       "17    8/8/2012  \n",
       "18    4/4/2015  \n",
       "19  12/15/2012  \n",
       "20    6/3/2018  \n",
       "21    3/6/2008  \n",
       "22    1/1/2010  \n",
       "23  12/15/2012  \n",
       "24    1/1/2010  \n",
       "25    3/5/2019  \n",
       "26    8/8/2008  \n",
       "27  12/15/2012  \n",
       "28    1/1/2008  \n",
       "29   1/12/2008  "
      ]
     },
     "execution_count": 100,
     "metadata": {},
     "output_type": "execute_result"
    }
   ],
   "source": [
    "stores=pd.read_csv(r\"D:\\GUVI_PROJECT\\Illuminating Insights for Global Electronics\\Stores.csv\")\n",
    "stores.head(30)"
   ]
  },
  {
   "cell_type": "code",
   "execution_count": 101,
   "id": "fa1d2c2a-2800-4ac1-b060-870fea9e3e31",
   "metadata": {},
   "outputs": [
    {
     "data": {
      "text/plain": [
       "StoreKey           int64\n",
       "Country           object\n",
       "State             object\n",
       "Square Meters    float64\n",
       "Open Date         object\n",
       "dtype: object"
      ]
     },
     "execution_count": 101,
     "metadata": {},
     "output_type": "execute_result"
    }
   ],
   "source": [
    "stores.dtypes"
   ]
  },
  {
   "cell_type": "code",
   "execution_count": 102,
   "id": "16ec12b2-50b5-4abd-b03c-9c615047622a",
   "metadata": {},
   "outputs": [
    {
     "data": {
      "text/plain": [
       "np.int64(0)"
      ]
     },
     "execution_count": 102,
     "metadata": {},
     "output_type": "execute_result"
    }
   ],
   "source": [
    "stores.duplicated().sum()"
   ]
  },
  {
   "cell_type": "code",
   "execution_count": 103,
   "id": "64e3c590-62cb-4c52-a23a-0899b57b9077",
   "metadata": {},
   "outputs": [
    {
     "data": {
      "text/plain": [
       "StoreKey         0\n",
       "Country          0\n",
       "State            0\n",
       "Square Meters    1\n",
       "Open Date        0\n",
       "dtype: int64"
      ]
     },
     "execution_count": 103,
     "metadata": {},
     "output_type": "execute_result"
    }
   ],
   "source": [
    "stores.isnull().sum()"
   ]
  },
  {
   "cell_type": "code",
   "execution_count": 104,
   "id": "38e0e522-bbb5-4b1a-881a-ad634d95b7d7",
   "metadata": {},
   "outputs": [],
   "source": [
    "stores.fillna(0,inplace=True)"
   ]
  },
  {
   "cell_type": "code",
   "execution_count": 105,
   "id": "73ee833c-c99d-4450-86eb-aa2394309f11",
   "metadata": {},
   "outputs": [],
   "source": [
    "stores_columns=stores.columns\n",
    "for sal in stores_columns:\n",
    "    if stores[sal].dtype== 'object':\n",
    "        stores[sal]=stores[sal].str.strip()"
   ]
  },
  {
   "cell_type": "code",
   "execution_count": 108,
   "id": "24597b04-bbe2-4087-86c3-aa42e9cfb8dd",
   "metadata": {},
   "outputs": [],
   "source": [
    "stores['OpenDate'] = pd.to_datetime(stores['OpenDate'])\n"
   ]
  },
  {
   "cell_type": "code",
   "execution_count": 107,
   "id": "ee68345b-36e0-4d45-a9c9-0f59cc309d45",
   "metadata": {},
   "outputs": [],
   "source": [
    "stores.rename(columns={\n",
    "    'StoreKey': 'StoreKey',\n",
    "    'Country': 'Country',\n",
    "    'State': 'State',\n",
    "    'Square Meters': 'SquareMeters',  # Changed from 'Square Meters' to 'SquareMeters'\n",
    "    'Open Date': 'OpenDate'\n",
    "}, inplace=True)\n"
   ]
  },
  {
   "cell_type": "code",
   "execution_count": 109,
   "id": "5c1ab644-bccb-4c77-a110-3b6f3b5d68b3",
   "metadata": {},
   "outputs": [],
   "source": [
    "# Drop rows with NaN values in any of the columns\n",
    "stores_cleaned = stores.dropna()\n",
    "\n",
    "# If you only want to drop rows with NaN in specific columns, for example, 'OpenDate', 'Country', etc.\n",
    "stores_cleaned = stores.dropna(subset=['StoreKey', 'Country', 'State', 'SquareMeters', 'OpenDate'])\n"
   ]
  },
  {
   "cell_type": "markdown",
   "id": "a31be4f8-c21c-4980-bc67-7b841dd4ff8b",
   "metadata": {},
   "source": [
    "### Creting a SQL connection"
   ]
  },
  {
   "cell_type": "code",
   "execution_count": 22,
   "id": "36058583-5863-4877-b4d7-37b731075680",
   "metadata": {},
   "outputs": [],
   "source": [
    "import pymysql"
   ]
  },
  {
   "cell_type": "code",
   "execution_count": 24,
   "id": "3f849b55-5a95-48a9-85ee-62f09f454b93",
   "metadata": {},
   "outputs": [],
   "source": [
    "connection = pymysql.connect(\n",
    "    host='localhost',\n",
    "    user='root',\n",
    "    password='Arun@5851',\n",
    "    database='Global_electronics'\n",
    ")\n",
    "\n",
    "cursor = connection.cursor()\n"
   ]
  },
  {
   "cell_type": "markdown",
   "id": "c76d98a4-40f6-41c5-bbd0-fadc5c85a60d",
   "metadata": {},
   "source": [
    "### Creating a tables for each dataset "
   ]
  },
  {
   "cell_type": "code",
   "execution_count": 25,
   "id": "a0cc93a9-a1c8-47ff-b1ac-c5e09a0727f8",
   "metadata": {},
   "outputs": [],
   "source": [
    "cursor.execute(\"\"\"\n",
    "CREATE TABLE IF NOT EXISTS customers (CustomerKey INTEGER,Gender TEXT,Name TEXT,City TEXT,State_Code TEXT,State TEXT,Zip_Code TEXT,\n",
    "    Country TEXT,Continent TEXT,Birthday DATE) \"\"\")\n",
    "\n",
    "connection.commit()"
   ]
  },
  {
   "cell_type": "code",
   "execution_count": 59,
   "id": "b47e6e71-88d9-448d-9487-1bb0b7529716",
   "metadata": {},
   "outputs": [],
   "source": [
    "cursor.execute(\"\"\"\n",
    "CREATE TABLE IF NOT EXISTS data_dictionary (TableName VARCHAR(100),FieldName VARCHAR(100),Description TEXT) \"\"\")\n",
    "connection.commit()"
   ]
  },
  {
   "cell_type": "code",
   "execution_count": 61,
   "id": "db783fda-5d23-48c7-98c5-e85ddd4c2281",
   "metadata": {},
   "outputs": [],
   "source": [
    "### change table name \n",
    "data_dic.rename(columns={'Table': 'TableName', 'Field': 'FieldName'}, inplace=True)\n"
   ]
  },
  {
   "cell_type": "code",
   "execution_count": 68,
   "id": "b7b9709d-6b99-4d48-9f79-e7a6fdb8610f",
   "metadata": {},
   "outputs": [],
   "source": [
    "cursor.execute(\"\"\"CREATE TABLE IF NOT EXISTS exchange_rates (Date DATETIME,Currency VARCHAR(10),Exchange FLOAT)\"\"\")\n",
    "connection.commit()"
   ]
  },
  {
   "cell_type": "code",
   "execution_count": 79,
   "id": "b5cfa7db-b9d6-4262-98a0-00b97ce5037d",
   "metadata": {},
   "outputs": [],
   "source": [
    "cursor.execute(\"\"\"\n",
    "CREATE TABLE IF NOT EXISTS products (ProductKey INT,ProductName VARCHAR(255),Brand VARCHAR(100),Color VARCHAR(50),UnitCostUSD FLOAT,\n",
    "    UnitPriceUSD FLOAT,SubcategoryKey INT,Subcategory VARCHAR(100),CategoryKey INT,Category VARCHAR(100))\"\"\")\n",
    "connection.commit()"
   ]
  },
  {
   "cell_type": "code",
   "execution_count": 97,
   "id": "484259b3-cab8-4450-a6b6-ba6141dbff3b",
   "metadata": {},
   "outputs": [
    {
     "data": {
      "text/plain": [
       "0"
      ]
     },
     "execution_count": 97,
     "metadata": {},
     "output_type": "execute_result"
    }
   ],
   "source": [
    "cursor.execute(\"\"\"\n",
    "CREATE TABLE IF NOT EXISTS sales (OrderNumber INT PRIMARY KEY,LineItem INT,OrderDate DATETIME,DeliveryDate DATETIME,CustomerKey INT,\n",
    "        StoreKey INT,ProductKey INT,Quantity INT,CurrencyCode VARCHAR(10))\"\"\")\n"
   ]
  },
  {
   "cell_type": "code",
   "execution_count": 112,
   "id": "2b3a50c8-7e3d-4652-b99d-479bef2b25df",
   "metadata": {},
   "outputs": [
    {
     "data": {
      "text/plain": [
       "0"
      ]
     },
     "execution_count": 112,
     "metadata": {},
     "output_type": "execute_result"
    }
   ],
   "source": [
    "cursor.execute(\"\"\"\n",
    "    CREATE TABLE IF NOT EXISTS stores (StoreKey INT PRIMARY KEY,Country VARCHAR(255),State VARCHAR(255),SquareMeters FLOAT,OpenDate DATETIME)\"\"\")\n"
   ]
  },
  {
   "cell_type": "markdown",
   "id": "cb067ef4-3f9a-49a2-89ee-bfff14cbfa2d",
   "metadata": {},
   "source": [
    "### Storing a data into the sql"
   ]
  },
  {
   "cell_type": "code",
   "execution_count": null,
   "id": "255eeeae-4a72-4e60-9f49-d2f7247b6ba0",
   "metadata": {},
   "outputs": [],
   "source": []
  },
  {
   "cell_type": "code",
   "execution_count": 53,
   "id": "046330b0-1789-495a-9fb9-c1ae9d33fc6f",
   "metadata": {},
   "outputs": [],
   "source": [
    "for index, row in customers.iterrows():\n",
    "    cursor.execute(\"\"\"\n",
    "        INSERT INTO customers (CustomerKey, Gender, Name, City, State_Code, State, Zip_Code, Country, Continent, Birthday)\n",
    "        VALUES (%s, %s, %s, %s, %s, %s, %s, %s, %s, %s)\n",
    "    \"\"\", (row['CustomerKey'], row['Gender'], row['Name'], row['City'], row['State_Code'], row['State'], row['Zip_Code'], row['Country'], row['Continent'], row['Birthday']))\n",
    "connection.commit()\n"
   ]
  },
  {
   "cell_type": "code",
   "execution_count": null,
   "id": "f05aeb6d-8345-468f-ab38-b781ee8f3bed",
   "metadata": {},
   "outputs": [],
   "source": []
  },
  {
   "cell_type": "code",
   "execution_count": null,
   "id": "2b079f3b-3e62-4a11-b856-915d7f59d291",
   "metadata": {},
   "outputs": [],
   "source": []
  },
  {
   "cell_type": "code",
   "execution_count": null,
   "id": "01bc5bcd-57f3-4753-bbd5-5096545a6ca5",
   "metadata": {},
   "outputs": [],
   "source": []
  },
  {
   "cell_type": "code",
   "execution_count": 62,
   "id": "6e1ae8f4-18e6-416a-ad5d-88b6d7903038",
   "metadata": {},
   "outputs": [],
   "source": [
    "for index, row in data_dic.iterrows():\n",
    "    cursor.execute(\"\"\"\n",
    "        INSERT INTO data_dictionary (TableName, FieldName, Description)\n",
    "        VALUES (%s, %s, %s)\n",
    "    \"\"\", (row['TableName'], row['FieldName'], row['Description']))\n",
    "    \n",
    "connection.commit()\n"
   ]
  },
  {
   "cell_type": "code",
   "execution_count": null,
   "id": "2a2f454a-91ea-4122-af74-7cae30922a9b",
   "metadata": {},
   "outputs": [],
   "source": []
  },
  {
   "cell_type": "code",
   "execution_count": 69,
   "id": "b8ee5d65-5b40-4e3c-b98f-1e3485025d95",
   "metadata": {},
   "outputs": [],
   "source": [
    "for index, row in exchange_rates.iterrows():\n",
    "    cursor.execute(\"\"\"\n",
    "        INSERT INTO exchange_rates (Date, Currency, Exchange)\n",
    "        VALUES (%s, %s, %s)\n",
    "    \"\"\", (row['Date'], row['Currency'], row['Exchange']))\n",
    "connection.commit()\n"
   ]
  },
  {
   "cell_type": "code",
   "execution_count": 65,
   "id": "36765415-0078-428a-be1f-be8d46c900ed",
   "metadata": {},
   "outputs": [
    {
     "data": {
      "text/plain": [
       "Index(['ProductKey', 'Product Name', 'Brand', 'Color', 'Unit Cost USD',\n",
       "       'Unit Price USD', 'SubcategoryKey', 'Subcategory', 'CategoryKey',\n",
       "       'Category'],\n",
       "      dtype='object')"
      ]
     },
     "execution_count": 65,
     "metadata": {},
     "output_type": "execute_result"
    }
   ],
   "source": [
    "products.columns"
   ]
  },
  {
   "cell_type": "code",
   "execution_count": 80,
   "id": "af4af7a6-f40b-412e-b67d-f3b5e86fa906",
   "metadata": {},
   "outputs": [],
   "source": [
    "for index, row in products.iterrows():\n",
    "    cursor.execute(\"\"\"\n",
    "        INSERT INTO products (ProductKey, ProductName, Brand, Color, UnitCostUSD, UnitPriceUSD, SubcategoryKey, Subcategory, CategoryKey, Category)\n",
    "        VALUES (%s, %s, %s, %s, %s, %s, %s, %s, %s, %s)\n",
    "    \"\"\", (row['ProductKey'], row['ProductName'], row['Brand'], row['Color'], row['UnitCostUSD'], row['UnitPriceUSD'], row['SubcategoryKey'], row['Subcategory'], row['CategoryKey'], row['Category']))\n",
    "connection.commit()\n"
   ]
  },
  {
   "cell_type": "code",
   "execution_count": null,
   "id": "8a87e982-0cff-4d83-bfc9-52f487b1b4aa",
   "metadata": {},
   "outputs": [],
   "source": []
  },
  {
   "cell_type": "code",
   "execution_count": null,
   "id": "13f3e0af-7296-4786-ad4e-dd2b9d7be861",
   "metadata": {},
   "outputs": [],
   "source": [
    "for index, row in stores.iterrows():\n",
    "    # Check if the StoreKey already exists\n",
    "    cursor.execute(\"SELECT COUNT(*) FROM stores WHERE StoreKey = %s\", (row['StoreKey'],))\n",
    "    if cursor.fetchone()[0] == 0:  # If it doesn't exist\n",
    "        insert_query = \"\"\"\n",
    "        INSERT INTO stores (StoreKey, Country, State, SquareMeters, OpenDate)\n",
    "        VALUES (%s, %s, %s, %s, %s)\n",
    "        \"\"\"\n",
    "        cursor.execute(insert_query, (row['StoreKey'], row['Country'], row['State'], row['SquareMeters'], row['OpenDate']))\n",
    "    else:\n",
    "        print(f\"StoreKey {row['StoreKey']} already exists, skipping insert.\")\n",
    "\n",
    "# Commit the transaction\n",
    "connection.commit()\n"
   ]
  },
  {
   "cell_type": "code",
   "execution_count": 146,
   "id": "4cd67568-7116-4737-8fdc-ed621c430f6f",
   "metadata": {},
   "outputs": [],
   "source": []
  },
  {
   "cell_type": "code",
   "execution_count": null,
   "id": "f3a72b98-4254-4c79-8027-b9efbf963295",
   "metadata": {},
   "outputs": [],
   "source": []
  },
  {
   "cell_type": "code",
   "execution_count": null,
   "id": "08e5b154-ddbb-4618-a702-4a2ebccab3d7",
   "metadata": {},
   "outputs": [],
   "source": []
  }
 ],
 "metadata": {
  "kernelspec": {
   "display_name": "Python 3 (ipykernel)",
   "language": "python",
   "name": "python3"
  },
  "language_info": {
   "codemirror_mode": {
    "name": "ipython",
    "version": 3
   },
   "file_extension": ".py",
   "mimetype": "text/x-python",
   "name": "python",
   "nbconvert_exporter": "python",
   "pygments_lexer": "ipython3",
   "version": "3.13.3"
  }
 },
 "nbformat": 4,
 "nbformat_minor": 5
}
